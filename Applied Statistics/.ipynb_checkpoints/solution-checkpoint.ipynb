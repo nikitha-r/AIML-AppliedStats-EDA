{
 "cells": [
  {
   "cell_type": "markdown",
   "metadata": {},
   "source": [
    "### DOMAIN : Agriculture \n"
   ]
  },
  {
   "cell_type": "markdown",
   "metadata": {},
   "source": [
    "##### CONTEXT : In 2006, global concern was raised over the rapid decline in the honeybee population, an integral component to American honey agriculture. Large numbers of hives were lost to Colony Collapse Disorder, a phenomenon of disappearing worker bees causing the remaining hive colony to collapse. Speculation to the cause of this disorder points to hive diseases and pesticides harming the pollinators, though no overall consensus has been reached. Twelve years later, some industries are observing recovery but the American honey industry is still largely struggling. The U.S. used to locally produce over half the honey it consumes per year. Now, honey mostly comes from overseas, with 350 of the 400 million pounds of honey consumed every year originating from imports. This dataset provides insight into honey production supply and demand in America by state from 1998 to 2012."
   ]
  },
  {
   "cell_type": "markdown",
   "metadata": {},
   "source": [
    "#### DATA DESCRIPTION :\n",
    "\n",
    "Useful metadata on certain variables of the honeyproduction dataset is provided below :\n",
    "- numcol:\n",
    "Number of honey producing colonies. Honey producing colonies are the maximum number of colonies from\n",
    "which honey was taken during the year. It is possible to take honey from colonies which did not survive the entire\n",
    " year\n",
    "- yieldpercol: Honey yield per colony. Unit is pounds\n",
    "- totalprod: Total production (numcol x yieldpercol). Unit is pounds\n",
    "- stocks: Refers to stocks held by producers. Unit is pounds\n",
    "- priceperlb: Refers to average price per pound based on expanded sales. Unit is dollars.\n",
    "- prodvalue: Value of production (totalprod x priceperlb). Unit is dollars.\n",
    "- Other useful information:\n",
    " Certain states are excluded every year (ex. CT) to avoid disclosing data for individual operations. Due to rounding,\n",
    " total colonies multiplied by total yield may not equal production. Also, summation of states will not equal U.S. level\n",
    " value of production\n",
    " This is real commercial data, it has been anonymized, and references to the companies and partners in the\n",
    " review text have been replaced with the names of Game of Thrones great houses."
   ]
  },
  {
   "cell_type": "markdown",
   "metadata": {},
   "source": [
    "#### PROJECT OBJECTIVE : Perform various EDA & statistical analysis to understand about the data and represent the same"
   ]
  },
  {
   "cell_type": "markdown",
   "metadata": {},
   "source": [
    "STEPS AND TASKS :\n",
    "Q1. Data Collection and Data Preprocessing [20 Marks]\n",
    "\n",
    "\n",
    "1) Import required libraries and import csv file into a dataframe. [2Marks]\n",
    "2) Show the column names of all individual datasets. [2Marks]\n",
    "3) Change the datatype of all columns expect price per lb. [2Marks]\n",
    "4) Share 5-point summary and the details about the dataset. [2Marks]\n",
    "5) Find the average production per state and shape of dataset. [2Marks]\n",
    "6) Check the distribution of records for every year. [2Marks]\n",
    "7) Find top 10 years with highest totalprod. [2Marks]\n",
    "8) Find years with highest and lowest totalprod. [2Marks]\n",
    "9) Find top 10 states with highest totalprod. [2Marks]\n",
    "\n",
    "\n",
    "Q2. Data Visualization [20 Marks]\n",
    "1) Visualize Q 1.9 and Q1.10 [4 Marks]\n",
    "2) Find states with minimum and max price per lb. [4 Marks]\n",
    "3) Visualize Q 2.2 [4 Marks]\n",
    "4) Visualize the totalprod with respect to year. [4 Marks]\n",
    "5) Visualize pairplot and share your insights. [4 Marks]\n",
    "\n",
    "\n",
    "Q3 – Statistical Analysis [20 Marks]\n",
    "1) Visualize distribution of numcol, yieldpercol, priceperlb, stocks in one single frame using subplots and share your insights.\n",
    "[4 Marks]\n",
    "2) Visualize, boxplot and confirm if there are any outliers. [4 Marks]\n",
    "3) Find Skewness and Kurtosis of complete dataframe. [4 Marks]\n",
    "4) Make a new copy of dataset and use for further analysis. [4 Marks]\n",
    "5) Try to make the skewed data as normal as possible & visualize the same. [4 Marks]"
   ]
  },
  {
   "cell_type": "code",
   "execution_count": 29,
   "metadata": {
    "vscode": {
     "languageId": "plaintext"
    }
   },
   "outputs": [
    {
     "data": {
      "text/plain": [
       "state          0\n",
       "numcol         0\n",
       "yieldpercol    0\n",
       "totalprod      0\n",
       "stocks         0\n",
       "priceperlb     0\n",
       "prodvalue      0\n",
       "year           0\n",
       "dtype: int64"
      ]
     },
     "execution_count": 29,
     "metadata": {},
     "output_type": "execute_result"
    }
   ],
   "source": [
    "### Q1-1. Import required libraries and import csv file into a dataframe.\n",
    "import pandas as pd\n",
    "df = pd.read_csv(\"honeyproduction.csv\")\n",
    "df.head()"
   ]
  },
  {
   "cell_type": "code",
   "execution_count": 30,
   "metadata": {},
   "outputs": [
    {
     "data": {
      "text/plain": [
       "state          0\n",
       "numcol         0\n",
       "yieldpercol    0\n",
       "totalprod      0\n",
       "stocks         0\n",
       "priceperlb     0\n",
       "prodvalue      0\n",
       "year           0\n",
       "dtype: int64"
      ]
     },
     "execution_count": 30,
     "metadata": {},
     "output_type": "execute_result"
    }
   ],
   "source": [
    "df.isna().sum()\n"
   ]
  },
  {
   "cell_type": "code",
   "execution_count": 9,
   "metadata": {},
   "outputs": [
    {
     "data": {
      "text/plain": [
       "state           object\n",
       "numcol         float64\n",
       "yieldpercol      int64\n",
       "totalprod      float64\n",
       "stocks         float64\n",
       "priceperlb     float64\n",
       "prodvalue      float64\n",
       "year             int64\n",
       "dtype: object"
      ]
     },
     "execution_count": 9,
     "metadata": {},
     "output_type": "execute_result"
    }
   ],
   "source": [
    "### Q1-2. Show the column names of all individual datasets.\n",
    "df.columns\n",
    "df.dtypes"
   ]
  },
  {
   "cell_type": "code",
   "execution_count": 10,
   "metadata": {},
   "outputs": [
    {
     "data": {
      "text/plain": [
       "state           object\n",
       "numcol         float64\n",
       "yieldpercol      int64\n",
       "totalprod      float64\n",
       "stocks         float64\n",
       "priceperlb     float64\n",
       "prodvalue      float64\n",
       "year             int64\n",
       "dtype: object"
      ]
     },
     "execution_count": 10,
     "metadata": {},
     "output_type": "execute_result"
    }
   ],
   "source": [
    "### Q1-3. Change the datatype of all columns expect price per lb.\n",
    "# Define the columns to exclude from datatype change\n",
    "columns_to_exclude = ['price per lb']\n",
    "\n",
    "# Iterate through the columns and change datatypes\n",
    "for column in df.columns:\n",
    "    if column not in columns_to_exclude:\n",
    "        df[column] = pd.to_numeric(df[column], errors='coerce')\n",
    "        \n",
    "df.dtypes"
   ]
  },
  {
   "cell_type": "code",
   "execution_count": 17,
   "metadata": {},
   "outputs": [
    {
     "data": {
      "text/html": [
       "<div>\n",
       "<style scoped>\n",
       "    .dataframe tbody tr th:only-of-type {\n",
       "        vertical-align: middle;\n",
       "    }\n",
       "\n",
       "    .dataframe tbody tr th {\n",
       "        vertical-align: top;\n",
       "    }\n",
       "\n",
       "    .dataframe thead th {\n",
       "        text-align: right;\n",
       "    }\n",
       "</style>\n",
       "<table border=\"1\" class=\"dataframe\">\n",
       "  <thead>\n",
       "    <tr style=\"text-align: right;\">\n",
       "      <th></th>\n",
       "      <th>numcol</th>\n",
       "      <th>yieldpercol</th>\n",
       "      <th>totalprod</th>\n",
       "      <th>stocks</th>\n",
       "      <th>priceperlb</th>\n",
       "      <th>prodvalue</th>\n",
       "      <th>year</th>\n",
       "    </tr>\n",
       "  </thead>\n",
       "  <tbody>\n",
       "    <tr>\n",
       "      <th>count</th>\n",
       "      <td>626.000000</td>\n",
       "      <td>626.000000</td>\n",
       "      <td>6.260000e+02</td>\n",
       "      <td>6.260000e+02</td>\n",
       "      <td>626.000000</td>\n",
       "      <td>6.260000e+02</td>\n",
       "      <td>626.000000</td>\n",
       "    </tr>\n",
       "    <tr>\n",
       "      <th>mean</th>\n",
       "      <td>60284.345048</td>\n",
       "      <td>62.009585</td>\n",
       "      <td>4.169086e+06</td>\n",
       "      <td>1.318859e+06</td>\n",
       "      <td>1.409569</td>\n",
       "      <td>4.715741e+06</td>\n",
       "      <td>2004.864217</td>\n",
       "    </tr>\n",
       "    <tr>\n",
       "      <th>std</th>\n",
       "      <td>91077.087231</td>\n",
       "      <td>19.458754</td>\n",
       "      <td>6.883847e+06</td>\n",
       "      <td>2.272964e+06</td>\n",
       "      <td>0.638599</td>\n",
       "      <td>7.976110e+06</td>\n",
       "      <td>4.317306</td>\n",
       "    </tr>\n",
       "    <tr>\n",
       "      <th>min</th>\n",
       "      <td>2000.000000</td>\n",
       "      <td>19.000000</td>\n",
       "      <td>8.400000e+04</td>\n",
       "      <td>8.000000e+03</td>\n",
       "      <td>0.490000</td>\n",
       "      <td>1.620000e+05</td>\n",
       "      <td>1998.000000</td>\n",
       "    </tr>\n",
       "    <tr>\n",
       "      <th>25%</th>\n",
       "      <td>9000.000000</td>\n",
       "      <td>48.000000</td>\n",
       "      <td>4.750000e+05</td>\n",
       "      <td>1.430000e+05</td>\n",
       "      <td>0.932500</td>\n",
       "      <td>7.592500e+05</td>\n",
       "      <td>2001.000000</td>\n",
       "    </tr>\n",
       "    <tr>\n",
       "      <th>50%</th>\n",
       "      <td>26000.000000</td>\n",
       "      <td>60.000000</td>\n",
       "      <td>1.533000e+06</td>\n",
       "      <td>4.395000e+05</td>\n",
       "      <td>1.360000</td>\n",
       "      <td>1.841500e+06</td>\n",
       "      <td>2005.000000</td>\n",
       "    </tr>\n",
       "    <tr>\n",
       "      <th>75%</th>\n",
       "      <td>63750.000000</td>\n",
       "      <td>74.000000</td>\n",
       "      <td>4.175250e+06</td>\n",
       "      <td>1.489500e+06</td>\n",
       "      <td>1.680000</td>\n",
       "      <td>4.703250e+06</td>\n",
       "      <td>2009.000000</td>\n",
       "    </tr>\n",
       "    <tr>\n",
       "      <th>max</th>\n",
       "      <td>510000.000000</td>\n",
       "      <td>136.000000</td>\n",
       "      <td>4.641000e+07</td>\n",
       "      <td>1.380000e+07</td>\n",
       "      <td>4.150000</td>\n",
       "      <td>6.961500e+07</td>\n",
       "      <td>2012.000000</td>\n",
       "    </tr>\n",
       "  </tbody>\n",
       "</table>\n",
       "</div>"
      ],
      "text/plain": [
       "              numcol  yieldpercol     totalprod        stocks  priceperlb  \\\n",
       "count     626.000000   626.000000  6.260000e+02  6.260000e+02  626.000000   \n",
       "mean    60284.345048    62.009585  4.169086e+06  1.318859e+06    1.409569   \n",
       "std     91077.087231    19.458754  6.883847e+06  2.272964e+06    0.638599   \n",
       "min      2000.000000    19.000000  8.400000e+04  8.000000e+03    0.490000   \n",
       "25%      9000.000000    48.000000  4.750000e+05  1.430000e+05    0.932500   \n",
       "50%     26000.000000    60.000000  1.533000e+06  4.395000e+05    1.360000   \n",
       "75%     63750.000000    74.000000  4.175250e+06  1.489500e+06    1.680000   \n",
       "max    510000.000000   136.000000  4.641000e+07  1.380000e+07    4.150000   \n",
       "\n",
       "          prodvalue         year  \n",
       "count  6.260000e+02   626.000000  \n",
       "mean   4.715741e+06  2004.864217  \n",
       "std    7.976110e+06     4.317306  \n",
       "min    1.620000e+05  1998.000000  \n",
       "25%    7.592500e+05  2001.000000  \n",
       "50%    1.841500e+06  2005.000000  \n",
       "75%    4.703250e+06  2009.000000  \n",
       "max    6.961500e+07  2012.000000  "
      ]
     },
     "execution_count": 17,
     "metadata": {},
     "output_type": "execute_result"
    }
   ],
   "source": [
    "### Q1-4. Share 5-point summary and the details about the dataset.\n",
    "df.describe()\n"
   ]
  },
  {
   "cell_type": "code",
   "execution_count": 22,
   "metadata": {},
   "outputs": [
    {
     "data": {
      "text/plain": [
       "state\n",
       "AL    8.254667e+05\n",
       "AR    2.810400e+06\n",
       "AZ    2.032267e+06\n",
       "CA    2.316900e+07\n",
       "CO    1.750600e+06\n",
       "FL    1.646987e+07\n",
       "GA    3.299933e+06\n",
       "HI    8.431333e+05\n",
       "IA    2.080000e+06\n",
       "ID    4.410667e+06\n",
       "IL    4.983333e+05\n",
       "IN    4.840000e+05\n",
       "KS    7.079333e+05\n",
       "KY    2.296667e+05\n",
       "LA    3.627333e+06\n",
       "MD    2.110000e+05\n",
       "ME    2.467333e+05\n",
       "MI    4.854667e+06\n",
       "MN    9.624000e+06\n",
       "MO    8.715333e+05\n",
       "MS    1.456867e+06\n",
       "MT    1.043747e+07\n",
       "NC    5.427333e+05\n",
       "ND    3.167233e+07\n",
       "NE    3.158600e+06\n",
       "NJ    3.995333e+05\n",
       "NM    4.764667e+05\n",
       "NV    4.392727e+05\n",
       "NY    3.937467e+06\n",
       "OH    1.040067e+06\n",
       "OK    2.011667e+05\n",
       "OR    2.121400e+06\n",
       "PA    1.295600e+06\n",
       "SC    3.433333e+05\n",
       "SD    1.774273e+07\n",
       "TN    4.077333e+05\n",
       "TX    6.993600e+06\n",
       "UT    1.179067e+06\n",
       "VA    2.665333e+05\n",
       "VT    3.880667e+05\n",
       "WA    2.687733e+06\n",
       "WI    5.455533e+06\n",
       "WV    3.212000e+05\n",
       "WY    2.617933e+06\n",
       "Name: totalprod, dtype: float64"
      ]
     },
     "execution_count": 22,
     "metadata": {},
     "output_type": "execute_result"
    }
   ],
   "source": [
    "### Q1-5. Find the average production per state and shape of dataset.\n",
    "average_production = df.groupby('state')['totalprod'].mean()\n",
    "average_production"
   ]
  },
  {
   "cell_type": "code",
   "execution_count": 31,
   "metadata": {},
   "outputs": [
    {
     "data": {
      "text/plain": [
       "(626, 8)"
      ]
     },
     "execution_count": 31,
     "metadata": {},
     "output_type": "execute_result"
    }
   ],
   "source": [
    "### Shape of dataset\n",
    "df.shape"
   ]
  },
  {
   "cell_type": "code",
   "execution_count": 23,
   "metadata": {},
   "outputs": [
    {
     "data": {
      "text/plain": [
       "1998    43\n",
       "1999    43\n",
       "2000    43\n",
       "2001    44\n",
       "2002    44\n",
       "2003    44\n",
       "2004    41\n",
       "2005    41\n",
       "2006    41\n",
       "2007    41\n",
       "2008    41\n",
       "2009    40\n",
       "2010    40\n",
       "2011    40\n",
       "2012    40\n",
       "Name: year, dtype: int64"
      ]
     },
     "execution_count": 23,
     "metadata": {},
     "output_type": "execute_result"
    }
   ],
   "source": [
    "### Q1-6. Check the distribution of records for every year.\n",
    "yearly_distribution = df['year'].value_counts().sort_index()\n",
    "yearly_distribution"
   ]
  },
  {
   "cell_type": "code",
   "execution_count": 24,
   "metadata": {},
   "outputs": [
    {
     "data": {
      "text/plain": [
       "year\n",
       "2000    219558000.0\n",
       "1998    219519000.0\n",
       "1999    202387000.0\n",
       "2001    185748000.0\n",
       "2004    182729000.0\n",
       "2003    181372000.0\n",
       "2010    175294000.0\n",
       "2005    173969000.0\n",
       "2002    171265000.0\n",
       "2008    162972000.0\n",
       "Name: totalprod, dtype: float64"
      ]
     },
     "execution_count": 24,
     "metadata": {},
     "output_type": "execute_result"
    }
   ],
   "source": [
    "### Q1-7. Find top 10 years with highest totalprod.\n",
    "yearly_total_production = df.groupby('year')['totalprod'].sum()\n",
    "\n",
    "top_10_years = yearly_total_production.sort_values(ascending=False).head(10)\n",
    "top_10_years"
   ]
  },
  {
   "cell_type": "code",
   "execution_count": 27,
   "metadata": {},
   "outputs": [
    {
     "name": "stdout",
     "output_type": "stream",
     "text": [
      "Year with highest totalprod 2000\n",
      "Year with lowest totalprod 2012\n"
     ]
    }
   ],
   "source": [
    "### Q1-8. Find years with highest and lowest totalprod.\n",
    "yearly_total_production = df.groupby('year')['totalprod'].sum()\n",
    "year_highest_total = yearly_total_production.idxmax()\n",
    "year_lowest_total = yearly_total_production.idxmin()\n",
    "print(f\"Year with highest totalprod {year_highest_total}\")\n",
    "print(f\"Year with lowest totalprod {year_lowest_total}\")"
   ]
  },
  {
   "cell_type": "code",
   "execution_count": 28,
   "metadata": {},
   "outputs": [
    {
     "data": {
      "text/plain": [
       "state\n",
       "ND    475085000.0\n",
       "CA    347535000.0\n",
       "SD    266141000.0\n",
       "FL    247048000.0\n",
       "MT    156562000.0\n",
       "MN    144360000.0\n",
       "TX    104904000.0\n",
       "WI     81833000.0\n",
       "MI     72820000.0\n",
       "ID     66160000.0\n",
       "Name: totalprod, dtype: float64"
      ]
     },
     "execution_count": 28,
     "metadata": {},
     "output_type": "execute_result"
    }
   ],
   "source": [
    "### Q1-9. Find top 10 states with highest totalprod.\n",
    "state_total_production = df.groupby('state')['totalprod'].sum()\n",
    "top_10_states = state_total_production.sort_values(ascending=False).head(10)\n",
    "top_10_states"
   ]
  },
  {
   "cell_type": "markdown",
   "metadata": {},
   "source": []
  }
 ],
 "metadata": {
  "kernelspec": {
   "display_name": "Python 3 (ipykernel)",
   "language": "python",
   "name": "python3"
  },
  "language_info": {
   "codemirror_mode": {
    "name": "ipython",
    "version": 3
   },
   "file_extension": ".py",
   "mimetype": "text/x-python",
   "name": "python",
   "nbconvert_exporter": "python",
   "pygments_lexer": "ipython3",
   "version": "3.8.0"
  }
 },
 "nbformat": 4,
 "nbformat_minor": 2
}
